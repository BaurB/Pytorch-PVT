{
 "cells": [
  {
   "cell_type": "code",
   "execution_count": 1,
   "metadata": {},
   "outputs": [],
   "source": [
    "import torch.nn as nn\n",
    "import torch"
   ]
  },
  {
   "cell_type": "code",
   "execution_count": 2,
   "metadata": {},
   "outputs": [
    {
     "name": "stdout",
     "output_type": "stream",
     "text": [
      "Before training with my parameters: tensor([173.8464, 181.7952, 197.6928, 213.5904, 229.4880, 242.2063, 261.2833,\n",
      "        277.1808, 293.0785, 308.9761, 324.8737, 340.7713, 356.6689, 361.9711],\n",
      "       grad_fn=<AddBackward0>)\n",
      "After training with optimizer: tensor([13.4489, 13.8089, 14.5288, 15.2487, 15.9687, 16.5446, 17.4085, 18.1285,\n",
      "        18.8484, 19.5683, 20.2883, 21.0082, 21.7281, 21.9682],\n",
      "       grad_fn=<AddBackward0>)\n"
     ]
    }
   ],
   "source": [
    "\n",
    "Pressure = torch.tensor([35, 40, 50, 60, 70, 78.00008331, 90, 100, 110, 120, 130, 140, 150, 153.3351982])\n",
    "Pressure = Pressure * 14.5038 # From Bar to PSIA \n",
    "viscosity = torch.tensor([179.9237102, 181.4609429, 184.536527, 187.6133261,190.6910172, 193.1536272, 196.8478322, 199.9263582,\\\n",
    "                       203.0045801, 206.0822214, 209.1590145, 212.2346999, 215.3090263, 216.3340305 ])\n",
    "\n",
    "class Linear(nn.Module):\n",
    "    \n",
    "    def __init__(self,  bias=True):\n",
    "        \n",
    "        super().__init__()\n",
    "        # Commented input and output features\n",
    "#         self.input_features = input_features\n",
    "#         self.output_features = output_features\n",
    "\n",
    "        # Сначала пытался рандомизировать параметры a и b, но loss выходил большой немного\n",
    "#         self.a = torch.nn.Parameter(torch.randn(()))\n",
    "#         self.b = torch.nn.Parameter(torch.randn(()))\n",
    "\n",
    "        # Потом задал в параметры для а и b вручную: a - mu_ob; b - p_ob\n",
    "        self.a = torch.nn.Parameter(torch.tensor([150.]))\n",
    "\n",
    "        self.b = torch.nn.Parameter(torch.tensor([20 * 14.5038]))\n",
    "                                                                                                                                \n",
    "    def forward(self, Pressure):\n",
    "        # a = mu_ob and b = Pb\n",
    "                                                                                                                                 \n",
    "        predicted_viscosity = self.a + (Pressure - self.b) * ((0.0007376096 * (self.a/self.b)**0.3895556) + (0.2444663* (self.a/self.b)**1.226398) + (0.00000560643 * self.a ** (0.001254195 * self.b + 0.3026506)))\n",
    "        \n",
    "        return predicted_viscosity\n",
    "\n",
    "    def string(self):\n",
    "\n",
    "        \"\"\"\n",
    "        To print the coefficient values\n",
    "        \"\"\"\n",
    "        return (f'y = {self.a.item()} + {self.b.item()}')\n",
    "    \n",
    "    \n",
    "# Creating x and y variables\n",
    "y = viscosity.reshape(1,14)\n",
    "x = Pressure\n",
    "\n",
    "model = Linear()   \n",
    "\n",
    "optimizer = torch.optim.SGD(model.parameters(), lr=1e-5)\n",
    "\n",
    "# My parameters: mu_ob = 150 cp and P_b = 290 psia (20 bar)\n",
    "print('Before training with my parameters:', model(x))\n",
    "\n",
    "for t in range(10000):\n",
    "    # Forward pass: Compute predicted y by passing x to the model\n",
    "    y_pred = model(x)\n",
    "\n",
    "    # Compute and print loss\n",
    "    loss = torch.norm(((y_pred * y)), 2, -1) #L2/Euclidean norm\n",
    "    \n",
    "    if t % 100 == 99:\n",
    "        pass\n",
    "#         print(t, loss.item())\n",
    "\n",
    "    # Zero gradients, perform a backward pass, and update the weights.\n",
    "    optimizer.zero_grad()\n",
    "    loss.backward()\n",
    "    optimizer.step()\n",
    "    \n",
    "\n",
    "print('After training with optimizer:', model(x))\n"
   ]
  }
 ],
 "metadata": {
  "kernelspec": {
   "display_name": "Python 3",
   "language": "python",
   "name": "python3"
  },
  "language_info": {
   "codemirror_mode": {
    "name": "ipython",
    "version": 3
   },
   "file_extension": ".py",
   "mimetype": "text/x-python",
   "name": "python",
   "nbconvert_exporter": "python",
   "pygments_lexer": "ipython3",
   "version": "3.8.3"
  }
 },
 "nbformat": 4,
 "nbformat_minor": 4
}
